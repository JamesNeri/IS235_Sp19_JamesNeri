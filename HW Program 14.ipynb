{
 "cells": [
  {
   "cell_type": "code",
   "execution_count": 1,
   "metadata": {},
   "outputs": [
    {
     "name": "stdout",
     "output_type": "stream",
     "text": [
      "High Scores Keeper 0 - Exit 1 - Show Scores 2 - Add a Score 3 - Delete a Score 4 - Sort Scores\n",
      "Choice: 3\n",
      "Delete which score?:32\n",
      "Score isn't in the high scores list.\n",
      "High Scores Keeper 0 - Exit 1 - Show Scores 2 - Add a Score 3 - Delete a Score 4 - Sort Scores\n",
      "Choice: 1\n",
      "High Scores\n",
      "High Scores Keeper 0 - Exit 1 - Show Scores 2 - Add a Score 3 - Delete a Score 4 - Sort Scores\n",
      "Choice: 2\n",
      "What score did you get?:0\n",
      "High Scores Keeper 0 - Exit 1 - Show Scores 2 - Add a Score 3 - Delete a Score 4 - Sort Scores\n",
      "Choice: 3\n",
      "Delete which score?:2\n",
      "Score isn't in the high scores list.\n",
      "High Scores Keeper 0 - Exit 1 - Show Scores 2 - Add a Score 3 - Delete a Score 4 - Sort Scores\n",
      "Choice: 1\n",
      "High Scores\n",
      "0\n",
      "High Scores Keeper 0 - Exit 1 - Show Scores 2 - Add a Score 3 - Delete a Score 4 - Sort Scores\n",
      "Choice: 1\n",
      "High Scores\n",
      "0\n",
      "High Scores Keeper 0 - Exit 1 - Show Scores 2 - Add a Score 3 - Delete a Score 4 - Sort Scores\n",
      "Choice: 0\n",
      "Good-bye.\n",
      "Press the enter key to exit.4\n"
     ]
    },
    {
     "data": {
      "text/plain": [
       "'4'"
      ]
     },
     "execution_count": 1,
     "metadata": {},
     "output_type": "execute_result"
    }
   ],
   "source": [
    "scores = []\n",
    "choice = None\n",
    "\n",
    "while choice != \"0\":\n",
    "    print(\"High Scores Keeper 0 - Exit 1 - Show Scores 2 - Add a Score 3 - Delete a Score 4 - Sort Scores\")\n",
    "    choice = input(\"Choice: \")\n",
    "    \n",
    "    if choice == \"0\":\n",
    "        print(\"Good-bye.\")\n",
    "\n",
    "    elif choice == \"1\":\n",
    "        print(\"High Scores\")\n",
    "        for score in scores:\n",
    "            print(score)\n",
    "\n",
    "    elif choice == \"2\":\n",
    "        score = int(input(\"What score did you get?:\"))\n",
    "        scores.append(score)\n",
    "\n",
    "    elif choice == \"3\":\n",
    "        score = int(input(\"Delete which score?:\"))\n",
    "        if score in scores:\n",
    "            scores.remove(score)\n",
    "        else:\n",
    "            print(\"Score isn't in the high scores list.\")\n",
    "\n",
    "    elif choice == \"4\":\n",
    "        scores.sort()\n",
    "        scores.reverse() \n",
    "        for score in scores:\n",
    "            print(score)\n",
    "\n",
    "    else:\n",
    "        print(\"Sorry, but\", choice, \"isn't a vaild choice.\")\n",
    "    \n",
    "input(\"Press the enter key to exit.\")"
   ]
  },
  {
   "cell_type": "code",
   "execution_count": null,
   "metadata": {},
   "outputs": [],
   "source": []
  }
 ],
 "metadata": {
  "kernelspec": {
   "display_name": "Python 3",
   "language": "python",
   "name": "python3"
  },
  "language_info": {
   "codemirror_mode": {
    "name": "ipython",
    "version": 3
   },
   "file_extension": ".py",
   "mimetype": "text/x-python",
   "name": "python",
   "nbconvert_exporter": "python",
   "pygments_lexer": "ipython3",
   "version": "3.7.1"
  }
 },
 "nbformat": 4,
 "nbformat_minor": 2
}
