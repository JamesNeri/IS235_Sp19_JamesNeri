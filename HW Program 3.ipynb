{
 "cells": [
  {
   "cell_type": "code",
   "execution_count": 7,
   "metadata": {},
   "outputs": [
    {
     "name": "stdout",
     "output_type": "stream",
     "text": [
      "input a rating between 0 and 10:7\n",
      "input a price between 10000 and 2000000:150000\n",
      "buy\n"
     ]
    }
   ],
   "source": [
    "import random\n",
    "#factor=123000\n",
    "factor = 123000\n",
    "#input a rating (0 - 10) \n",
    "rating = input (\"input a rating between 0 and 10:\")\n",
    "intRating = int(rating)\n",
    "if intRating >= 0 and intRating <=10:\n",
    "#input a price (100000 - 2mil)\n",
    "    price = input (\"input a price between 10000 and 2000000:\")\n",
    "    intPrice = int(price)\n",
    "    if intPrice >= 10000 and intPrice <= 2000000: \n",
    "    #make a buy or dont buy decision\n",
    "    #if the price is lower than the (rating*factor), buy\n",
    "        if intPrice < (intRating*factor):\n",
    "            print (\"buy\")\n",
    "    #if the price is higher than the (rating*factor), dont buy\n",
    "        if intPrice > (intRating*factor):\n",
    "            print (\"dont buy\")\n",
    "    else:\n",
    "        print (\"your price is not between 10000 and 2000000\")\n",
    "else:\n",
    "    print (\"your rating is not between 0-10\")"
   ]
  },
  {
   "cell_type": "code",
   "execution_count": null,
   "metadata": {},
   "outputs": [],
   "source": []
  }
 ],
 "metadata": {
  "kernelspec": {
   "display_name": "Python 3",
   "language": "python",
   "name": "python3"
  },
  "language_info": {
   "codemirror_mode": {
    "name": "ipython",
    "version": 3
   },
   "file_extension": ".py",
   "mimetype": "text/x-python",
   "name": "python",
   "nbconvert_exporter": "python",
   "pygments_lexer": "ipython3",
   "version": "3.7.1"
  }
 },
 "nbformat": 4,
 "nbformat_minor": 2
}
