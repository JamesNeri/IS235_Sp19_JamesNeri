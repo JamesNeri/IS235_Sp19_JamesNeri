{
 "cells": [
  {
   "cell_type": "code",
   "execution_count": 23,
   "metadata": {},
   "outputs": [
    {
     "name": "stdout",
     "output_type": "stream",
     "text": [
      "0.7853731633975086\n"
     ]
    }
   ],
   "source": [
    "x=0\n",
    "for k in range(10000):\n",
    "    x=x+((-1)**k)/(1+2*k) \n",
    "print(x)"
   ]
  },
  {
   "cell_type": "code",
   "execution_count": 24,
   "metadata": {},
   "outputs": [
    {
     "name": "stdout",
     "output_type": "stream",
     "text": [
      "0.7853731633975086\n"
     ]
    }
   ],
   "source": [
    "x=0\n",
    "for k in range(10000):\n",
    "    x+=pow(-1,k)/(2*k+1)\n",
    "print(x)\n",
    "if k is < 0 in range(10000)"
   ]
  },
  {
   "cell_type": "code",
   "execution_count": 39,
   "metadata": {},
   "outputs": [
    {
     "name": "stdout",
     "output_type": "stream",
     "text": [
      "-5.000250012500625e-05\n"
     ]
    }
   ],
   "source": [
    "x=0\n",
    "if (k < 0) in range(10000):\n",
    "    x+=pow(-1,k)/(2*k+1)\n",
    "print(x)"
   ]
  },
  {
   "cell_type": "code",
   "execution_count": null,
   "metadata": {},
   "outputs": [],
   "source": [
    "#page 62\n"
   ]
  }
 ],
 "metadata": {
  "kernelspec": {
   "display_name": "Python 3",
   "language": "python",
   "name": "python3"
  },
  "language_info": {
   "codemirror_mode": {
    "name": "ipython",
    "version": 3
   },
   "file_extension": ".py",
   "mimetype": "text/x-python",
   "name": "python",
   "nbconvert_exporter": "python",
   "pygments_lexer": "ipython3",
   "version": "3.7.1"
  }
 },
 "nbformat": 4,
 "nbformat_minor": 2
}
