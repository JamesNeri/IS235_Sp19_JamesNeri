{
 "cells": [
  {
   "cell_type": "code",
   "execution_count": 1,
   "metadata": {},
   "outputs": [
    {
     "name": "stdout",
     "output_type": "stream",
     "text": [
      "You are empty-handed.\n",
      "\n",
      "Press the enter key to continue.\n",
      "\n",
      "The tuple inventory is:\n",
      " ('Sword', 'Armor', 'Shield', 'Healing Potion')\n",
      "\n",
      "Your items:\n",
      "Sword\n",
      "Armor\n",
      "Shield\n",
      "Healing Potion\n",
      "Press the enter key to exit.\n"
     ]
    },
    {
     "data": {
      "text/plain": [
       "''"
      ]
     },
     "execution_count": 1,
     "metadata": {},
     "output_type": "execute_result"
    }
   ],
   "source": [
    "inventory = ()\n",
    "if not inventory:\n",
    "    print (\"You are empty-handed.\")\n",
    "    \n",
    "input(\"\\nPress the enter key to continue.\")\n",
    "inventory = (\"Sword\", \"Armor\", \"Shield\", \"Healing Potion\")\n",
    "print (\"\\nThe tuple inventory is:\\n\", inventory)\n",
    "print (\"\\nYour items:\")\n",
    "for item in inventory:\n",
    "    print (item)   \n",
    "input(\"Press the enter key to exit.\")"
   ]
  },
  {
   "cell_type": "code",
   "execution_count": 2,
   "metadata": {},
   "outputs": [
    {
     "name": "stdout",
     "output_type": "stream",
     "text": [
      "Your items:\n",
      "Sword\n",
      "Armor\n",
      "Shield\n",
      "Healing Potion\n",
      "Press the enter key to continue.\n",
      "Your have 4 items in your possession.\n",
      "Press the enter key to continue.\n",
      "You will live to fight another day.\n",
      "\n",
      "Enter the index number for an item in inventory: 2\n",
      "At index 2 is Shield\n",
      "\n",
      "Enter the index number to begin a slice:3\n",
      "\n",
      "Enter the index number to end the slice:1\n",
      "inventory[ 3 : 1 ]\t\t\n",
      "()\n",
      "Press the enter key to exit.\n"
     ]
    },
    {
     "data": {
      "text/plain": [
       "''"
      ]
     },
     "execution_count": 2,
     "metadata": {},
     "output_type": "execute_result"
    }
   ],
   "source": [
    "inventory = ()\n",
    "inventory = (\"Sword\", \"Armor\", \"Shield\", \"Healing Potion\")\n",
    "print(\"Your items:\")\n",
    "for item in inventory:\n",
    "    print (item)\n",
    "    \n",
    "input(\"Press the enter key to continue.\")\n",
    "\n",
    "print (\"Your have\", len(inventory), \"items in your possession.\")\n",
    "input(\"Press the enter key to continue.\")\n",
    "\n",
    "if \"Healing Potion\" in inventory:\n",
    "    print (\"You will live to fight another day.\")\n",
    "    \n",
    "index = int(input(\"\\nEnter the index number for an item in inventory: \"))\n",
    "print (\"At index\", index, \"is\", inventory[index])\n",
    "begin = int(input(\"\\nEnter the index number to begin a slice:\"))\n",
    "end = int(input(\"\\nEnter the index number to end the slice:\"))\n",
    "print(\"inventory[\", begin, \":\", end, \"]\\t\\t\")\n",
    "print(inventory[begin:end])\n",
    "input(\"Press the enter key to exit.\")"
   ]
  },
  {
   "cell_type": "code",
   "execution_count": 3,
   "metadata": {},
   "outputs": [
    {
     "name": "stdout",
     "output_type": "stream",
     "text": [
      "You find a chest. It contains:\n",
      "('Gold', 'Gems')\n",
      "You add the contents of the chest to your inventory.\n",
      "Your inventory is now:\n",
      "('Sword', 'Armor', 'Shield', 'Healing Potion', 'Gold', 'Gems')\n",
      "Press the enter key to exit.\n"
     ]
    },
    {
     "data": {
      "text/plain": [
       "''"
      ]
     },
     "execution_count": 3,
     "metadata": {},
     "output_type": "execute_result"
    }
   ],
   "source": [
    "inventory = (\"Sword\", \"Armor\", \"Shield\", \"Healing Potion\")\n",
    "chest = (\"Gold\", \"Gems\")\n",
    "print(\"You find a chest. It contains:\")\n",
    "print(chest)\n",
    "print(\"You add the contents of the chest to your inventory.\")\n",
    "inventory += chest\n",
    "print(\"Your inventory is now:\")\n",
    "print(inventory)\n",
    "input(\"Press the enter key to exit.\")"
   ]
  },
  {
   "cell_type": "code",
   "execution_count": null,
   "metadata": {},
   "outputs": [],
   "source": []
  }
 ],
 "metadata": {
  "kernelspec": {
   "display_name": "Python 3",
   "language": "python",
   "name": "python3"
  },
  "language_info": {
   "codemirror_mode": {
    "name": "ipython",
    "version": 3
   },
   "file_extension": ".py",
   "mimetype": "text/x-python",
   "name": "python",
   "nbconvert_exporter": "python",
   "pygments_lexer": "ipython3",
   "version": "3.7.1"
  }
 },
 "nbformat": 4,
 "nbformat_minor": 2
}
