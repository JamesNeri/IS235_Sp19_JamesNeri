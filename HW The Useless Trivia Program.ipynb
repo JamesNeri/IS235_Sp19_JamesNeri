{
 "cells": [
  {
   "cell_type": "code",
   "execution_count": 1,
   "metadata": {},
   "outputs": [],
   "source": [
    "# the useless trivia program"
   ]
  },
  {
   "cell_type": "code",
   "execution_count": null,
   "metadata": {},
   "outputs": [],
   "source": [
    "name = input(\"Hi. What's your name?\")"
   ]
  },
  {
   "cell_type": "code",
   "execution_count": null,
   "metadata": {},
   "outputs": [],
   "source": [
    "age = input(\"And how old are you?\")\n",
    "age = int(age)"
   ]
  },
  {
   "cell_type": "code",
   "execution_count": null,
   "metadata": {},
   "outputs": [],
   "source": [
    "weight = input(\"Okay, last question. How many pounds do you weigh?\")\n",
    "weight = int(weight)"
   ]
  },
  {
   "cell_type": "code",
   "execution_count": null,
   "metadata": {},
   "outputs": [],
   "source": [
    "print(\"\\nif post ee cummings were to email you, he'd address you as\", name.lower())\n",
    "\n",
    "ee_mad = name.upper()\n",
    "print(\"But if ee were mad, he'd call you\", ee_mad)"
   ]
  },
  {
   "cell_type": "code",
   "execution_count": null,
   "metadata": {},
   "outputs": [],
   "source": [
    "dog_years = age / 7\n",
    "print(_\\nDid you know that you're just\", dog_years, \"in dog years?\")"
   ]
  },
  {
   "cell_type": "code",
   "execution_count": null,
   "metadata": {},
   "outputs": [],
   "source": [
    "seconds = age * 365 * 24 * 60 * 60\n",
    "print (\"But you're also over\", seconds, \"seconds old.\")"
   ]
  },
  {
   "cell_type": "code",
   "execution_count": null,
   "metadata": {},
   "outputs": [],
   "source": [
    "called = name * 5\n",
    "print (\"\\nIf a small child were trying to get your attention, \" \\\n",
    "      \"your name would become:\")\n",
    "print(called)"
   ]
  },
  {
   "cell_type": "code",
   "execution_count": null,
   "metadata": {},
   "outputs": [],
   "source": [
    "moon_weight = weight / 6.0\n",
    "print(\"\\nDid you know that on the moon you would weigh only\", moon_weight, \"pounds?\")"
   ]
  },
  {
   "cell_type": "code",
   "execution_count": null,
   "metadata": {},
   "outputs": [],
   "source": [
    "sun_weight = weight * 27.1\n",
    "print(\"But on the sun, you'd weigh\", sun_weight, \"(but, ah... not for long).\")"
   ]
  },
  {
   "cell_type": "code",
   "execution_count": null,
   "metadata": {},
   "outputs": [],
   "source": [
    "raw_input(\"\\n\\nPress the enter key to exit.\")"
   ]
  }
 ],
 "metadata": {
  "kernelspec": {
   "display_name": "Python 3",
   "language": "python",
   "name": "python3"
  },
  "language_info": {
   "codemirror_mode": {
    "name": "ipython",
    "version": 3
   },
   "file_extension": ".py",
   "mimetype": "text/x-python",
   "name": "python",
   "nbconvert_exporter": "python",
   "pygments_lexer": "ipython3",
   "version": "3.7.1"
  }
 },
 "nbformat": 4,
 "nbformat_minor": 2
}
