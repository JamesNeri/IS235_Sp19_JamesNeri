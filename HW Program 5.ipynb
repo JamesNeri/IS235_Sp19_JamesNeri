{
 "cells": [
  {
   "cell_type": "code",
   "execution_count": 1,
   "metadata": {},
   "outputs": [
    {
     "name": "stdout",
     "output_type": "stream",
     "text": [
      "Type in a sentence and hit the ENTER keythe quick brown fox jumps over the lazy dog\n",
      "e\n",
      "u\n",
      "i\n",
      "o\n",
      "o\n",
      "u\n",
      "o\n",
      "e\n",
      "e\n",
      "a\n",
      "o\n",
      "th qck brwn fx jmps vr th lzy dg\n"
     ]
    }
   ],
   "source": [
    "#get a sentence from the user\n",
    "#store that sentence as a variable\n",
    "sentence1 = input(\"Type in a sentence and hit the ENTER key\")\n",
    "sentence2 = \"\"\n",
    "#get length of the sentence\n",
    "length = len(sentence1)\n",
    "VOWELS = \"aeiouAEIOU\"\n",
    "#loop from 0 to length of sentence\n",
    "for i in range(length):\n",
    "    if sentence1[i] in VOWELS:\n",
    "        #do nothing\n",
    "        print (sentence1[i])\n",
    "    else:\n",
    "        sentence2+=sentence1[i]\n",
    "    #if consonant, add to new string\n",
    "    #else do nothing \n",
    "    #(remove the vowels from the sentence)\n",
    "#print new sentence without vowels\n",
    "print(sentence2)"
   ]
  },
  {
   "cell_type": "code",
   "execution_count": 5,
   "metadata": {},
   "outputs": [
    {
     "name": "stdout",
     "output_type": "stream",
     "text": [
      "Type in a sentence and hit the ENTER key: the quick brown fox jumps over the lazy dog\n",
      "t\n",
      "h\n",
      "q\n",
      "c\n",
      "k\n",
      "b\n",
      "r\n",
      "w\n",
      "n\n",
      "f\n",
      "x\n",
      "j\n",
      "m\n",
      "p\n",
      "s\n",
      "v\n",
      "r\n",
      "t\n",
      "h\n",
      "l\n",
      "z\n",
      "y\n",
      "d\n",
      "g\n",
      "e ui o o u oe e a o\n",
      "Number of vowels:  19\n",
      "Number of consonants:  24\n"
     ]
    }
   ],
   "source": [
    "#get a sentence from the user\n",
    "#store that sentence as a variable\n",
    "sentence1 = input(\"Type in a sentence and hit the ENTER key: \")\n",
    "sentence2 = \"\"\n",
    "#get length of the sentence\n",
    "length = len(sentence1)\n",
    "CONSONANTS = \"bcdfghjklmnpqrstvwxyzBCDFGHJKLMNPQRSTVWXYZ\"\n",
    "VOWELS = \"aeiouAEIOU\"\n",
    "vowel_count = 0\n",
    "consonant_count = 0\n",
    "#loop from 0 to length of sentence\n",
    "for i in range(length):\n",
    "    if sentence1[i] in CONSONANTS:\n",
    "        #do nothing\n",
    "        consonant_count += 1\n",
    "        print (sentence1[i])\n",
    "    else:\n",
    "        sentence2+=sentence1[i]\n",
    "        vowel_count += 1\n",
    "    #if consonant, add to new string\n",
    "    #else do nothing \n",
    "    #(remove the vowels from the sentence)\n",
    "#print new sentence without vowels\n",
    "print(sentence2)\n",
    "print(\"Number of vowels: \", vowel_count)\n",
    "print(\"Number of consonants: \", consonant_count)\n",
    "#HAVE TO REMOVE CONSONANTS NOW\n",
    "#COUNT CONSONANTS AND VOWELS\n",
    "#COUNT OTHER CHARACTERS"
   ]
  },
  {
   "cell_type": "code",
   "execution_count": 4,
   "metadata": {},
   "outputs": [
    {
     "name": "stdout",
     "output_type": "stream",
     "text": [
      "Type in a sentence and hit the ENTER key: frenowcw\n",
      "sentence 2:  eo\n",
      "sentence 3:  frnwcw\n",
      "sentence 4:  \n",
      "Number of vowels:  2\n",
      "Number of consonants:  6\n",
      "Number of other characters:  0\n"
     ]
    }
   ],
   "source": [
    "#get a sentence from the user\n",
    "#store that sentence as a variable\n",
    "sentence1 = input(\"Type in a sentence and hit the ENTER key: \")\n",
    "sentence2 = \"\"\n",
    "sentence3 = \"\"\n",
    "sentence4 = \"\"\n",
    "#get length of the sentence\n",
    "length = len(sentence1)\n",
    "CONSONANTS = \"bcdfghjklmnpqrstvwxyzBCDFGHJKLMNPQRSTVWXYZ\"\n",
    "VOWELS = \"aeiouAEIOU\"\n",
    "vowel_count = 0\n",
    "consonant_count = 0\n",
    "other_character_count = 0\n",
    "#loop from 0 to length of sentence\n",
    "for i in range(length):\n",
    "    if sentence1[i] in VOWELS:\n",
    "        sentence2+=sentence1[i]\n",
    "        vowel_count+=1\n",
    "    elif sentence1[i] in CONSONANTS:\n",
    "        sentence3+=sentence1[i]\n",
    "        consonant_count+=1\n",
    "    else:\n",
    "        sentence4+=sentence1[i]\n",
    "        other_character_count+=1\n",
    "print(\"sentence 2: \", sentence2)\n",
    "print(\"sentence 3: \", sentence3) \n",
    "print(\"sentence 4: \", sentence4)\n",
    "print(\"Number of vowels: \", vowel_count)\n",
    "print(\"Number of consonants: \", consonant_count)\n",
    "print(\"Number of other characters: \", other_character_count)"
   ]
  },
  {
   "cell_type": "code",
   "execution_count": 5,
   "metadata": {},
   "outputs": [
    {
     "name": "stdout",
     "output_type": "stream",
     "text": [
      "0\n",
      "1\n",
      "2\n",
      "3\n",
      "4\n",
      "5\n"
     ]
    }
   ],
   "source": [
    "for i in range (6):\n",
    "    print (i)"
   ]
  },
  {
   "cell_type": "code",
   "execution_count": 9,
   "metadata": {},
   "outputs": [
    {
     "name": "stdout",
     "output_type": "stream",
     "text": [
      "number7\n"
     ]
    },
    {
     "ename": "TypeError",
     "evalue": "'<' not supported between instances of 'str' and 'int'",
     "output_type": "error",
     "traceback": [
      "\u001b[0;31m---------------------------------------------------------------------------\u001b[0m",
      "\u001b[0;31mTypeError\u001b[0m                                 Traceback (most recent call last)",
      "\u001b[0;32m<ipython-input-9-8a51b85aa34b>\u001b[0m in \u001b[0;36m<module>\u001b[0;34m\u001b[0m\n\u001b[1;32m      1\u001b[0m \u001b[0muser_number\u001b[0m\u001b[0;34m=\u001b[0m\u001b[0minput\u001b[0m\u001b[0;34m(\u001b[0m\u001b[0;34m\"number\"\u001b[0m\u001b[0;34m)\u001b[0m\u001b[0;34m\u001b[0m\u001b[0;34m\u001b[0m\u001b[0m\n\u001b[0;32m----> 2\u001b[0;31m \u001b[0;32mif\u001b[0m \u001b[0;34m(\u001b[0m\u001b[0muser_number\u001b[0m\u001b[0;34m)\u001b[0m\u001b[0;34m<\u001b[0m\u001b[0;36m0\u001b[0m\u001b[0;34m:\u001b[0m\u001b[0;34m\u001b[0m\u001b[0;34m\u001b[0m\u001b[0m\n\u001b[0m\u001b[1;32m      3\u001b[0m     \u001b[0mprint\u001b[0m\u001b[0;34m(\u001b[0m\u001b[0;34m\"number is negative\"\u001b[0m\u001b[0;34m)\u001b[0m\u001b[0;34m\u001b[0m\u001b[0;34m\u001b[0m\u001b[0m\n\u001b[1;32m      4\u001b[0m \u001b[0;32melif\u001b[0m \u001b[0;34m(\u001b[0m\u001b[0muser_number\u001b[0m\u001b[0;34m)\u001b[0m\u001b[0;34m>\u001b[0m\u001b[0;36m0\u001b[0m\u001b[0;34m:\u001b[0m\u001b[0;34m\u001b[0m\u001b[0;34m\u001b[0m\u001b[0m\n\u001b[1;32m      5\u001b[0m     \u001b[0mprint\u001b[0m\u001b[0;34m(\u001b[0m\u001b[0;34m\"number is positive\"\u001b[0m\u001b[0;34m)\u001b[0m\u001b[0;34m\u001b[0m\u001b[0;34m\u001b[0m\u001b[0m\n",
      "\u001b[0;31mTypeError\u001b[0m: '<' not supported between instances of 'str' and 'int'"
     ]
    }
   ],
   "source": [
    "user_number=input(\"number\")\n",
    "if (user_number)<0:\n",
    "    print(\"number is negative\")\n",
    "elif (user_number)>0:\n",
    "    print(\"number is positive\")\n",
    "else:\n",
    "    print(\"number is zero\")"
   ]
  },
  {
   "cell_type": "code",
   "execution_count": null,
   "metadata": {},
   "outputs": [],
   "source": []
  }
 ],
 "metadata": {
  "kernelspec": {
   "display_name": "Python 3",
   "language": "python",
   "name": "python3"
  },
  "language_info": {
   "codemirror_mode": {
    "name": "ipython",
    "version": 3
   },
   "file_extension": ".py",
   "mimetype": "text/x-python",
   "name": "python",
   "nbconvert_exporter": "python",
   "pygments_lexer": "ipython3",
   "version": "3.7.1"
  }
 },
 "nbformat": 4,
 "nbformat_minor": 2
}
