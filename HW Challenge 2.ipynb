{
 "cells": [
  {
   "cell_type": "code",
   "execution_count": 1,
   "metadata": {},
   "outputs": [
    {
     "name": "stdout",
     "output_type": "stream",
     "text": [
      "input a wordindex\n",
      "index 4 x\n",
      "index 3 e\n",
      "index 2 d\n",
      "index 1 n\n",
      "index 0 i\n"
     ]
    }
   ],
   "source": [
    "#get a word from the user, call it \"word\"\n",
    "word=input (\"input a word\")\n",
    "#gets the length of the word, call it \"Length_word\"\n",
    "Length_word=len(word)\n",
    "#gives a starting point for the following loop \n",
    "#position is the Length of the word-1\n",
    "position=Length_word-1\n",
    "#Loop: the number of times is the Length of the word\n",
    "for i in range(Length_word):\n",
    "    #prints out the word, the position of the Letter we are pulling out, and the Letter we are pulling out\n",
    "    #starts at position, which is the Length of the word-1\n",
    "    print(word, position, word[position])\n",
    "    #decreases position by 1. Loops as many times as the Length of the word\n",
    "    position-=1"
   ]
  },
  {
   "cell_type": "code",
   "execution_count": null,
   "metadata": {},
   "outputs": [],
   "source": []
  }
 ],
 "metadata": {
  "kernelspec": {
   "display_name": "Python 3",
   "language": "python",
   "name": "python3"
  },
  "language_info": {
   "codemirror_mode": {
    "name": "ipython",
    "version": 3
   },
   "file_extension": ".py",
   "mimetype": "text/x-python",
   "name": "python",
   "nbconvert_exporter": "python",
   "pygments_lexer": "ipython3",
   "version": "3.7.1"
  }
 },
 "nbformat": 4,
 "nbformat_minor": 2
}
