{
 "cells": [
  {
   "cell_type": "code",
   "execution_count": 1,
   "metadata": {},
   "outputs": [
    {
     "name": "stdout",
     "output_type": "stream",
     "text": [
      "\tWelcome to 'Guess My Number'!\n",
      "\n",
      "I'm thinking of a number between 1 and 100\n",
      "Try to guess it in as few attempts as possible.\n",
      "\n",
      "Take a guess: 50\n",
      "Higher...\n",
      "Take a guess: 60\n",
      "Higher...\n",
      "Take a guess: 99\n",
      "Lower...\n",
      "Take a guess: 80\n",
      "Lower...\n",
      "Take a guess: 70\n",
      "Higher...\n",
      "Take a guess: 75\n",
      "Lower...\n",
      "Take a guess: 72\n",
      "Lower...\n",
      "Take a guess: 71\n",
      "You guessed it! The number was 71\n",
      "And it only took you 8 tries!\n",
      "\n"
     ]
    }
   ],
   "source": [
    "import random\n",
    "print (\"\\tWelcome to 'Guess My Number'!\")\n",
    "print (\"\\nI'm thinking of a number between 1 and 100\")\n",
    "print (\"Try to guess it in as few attempts as possible.\\n\")\n",
    "# set the initial values\n",
    "the_number = random.randrange(100)+1\n",
    "guess = int(input(\"Take a guess: \"))\n",
    "tries = 1\n",
    "#guessing loop\n",
    "while (guess != the_number):\n",
    "    if (guess > the_number):\n",
    "        print (\"Lower...\")\n",
    "    else:\n",
    "        print (\"Higher...\")\n",
    "    guess = int(input(\"Take a guess: \"))\n",
    "    tries += 1\n",
    "print (\"You guessed it! The number was\", the_number)\n",
    "print (\"And it only took you\", tries, \"tries!\\n\")"
   ]
  },
  {
   "cell_type": "code",
   "execution_count": null,
   "metadata": {},
   "outputs": [],
   "source": []
  }
 ],
 "metadata": {
  "kernelspec": {
   "display_name": "Python 3",
   "language": "python",
   "name": "python3"
  },
  "language_info": {
   "codemirror_mode": {
    "name": "ipython",
    "version": 3
   },
   "file_extension": ".py",
   "mimetype": "text/x-python",
   "name": "python",
   "nbconvert_exporter": "python",
   "pygments_lexer": "ipython3",
   "version": "3.7.1"
  }
 },
 "nbformat": 4,
 "nbformat_minor": 2
}
