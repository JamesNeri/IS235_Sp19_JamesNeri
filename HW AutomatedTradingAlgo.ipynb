{
 "cells": [
  {
   "cell_type": "code",
   "execution_count": 8,
   "metadata": {},
   "outputs": [
    {
     "name": "stdout",
     "output_type": "stream",
     "text": [
      "short\n",
      "short\n",
      "buy\n",
      "buy\n",
      "buy\n",
      "short\n",
      "buy\n",
      "short\n",
      "short\n",
      "buy\n",
      "buy\n",
      "buy\n",
      "buy\n",
      "short\n",
      "buy\n",
      "buy\n",
      "short\n",
      "short\n",
      "short\n",
      "buy\n",
      "short\n",
      "short\n",
      "buy\n",
      "short\n",
      "short\n",
      "buy\n",
      "short\n",
      "short\n",
      "buy\n",
      "buy\n",
      "short\n",
      "short\n",
      "buy\n",
      "buy\n",
      "short\n",
      "short\n",
      "buy\n",
      "buy\n",
      "short\n"
     ]
    }
   ],
   "source": [
    "#HW program 4\n",
    "#use pandas to work with csv files\n",
    "import pandas as pd\n",
    "#factor=100000\n",
    "factor = 100000\n",
    "#import data \n",
    "df_rate_price = pd.read_csv(\"IS235Ratings_Prices.csv\")\n",
    "#see how long the file is as (fileLength)\n",
    "lines = df_rate_price.index.size\n",
    "#start the loop from first line until last line (fileLength) \n",
    "for i in range(lines):    \n",
    "    #import a rating from csv file\n",
    "    rating = float(df_rate_price.at[i,\"Rating\"])\n",
    "    #import a price from csv file\n",
    "    price = float(df_rate_price.at[i,\"Price\"])\n",
    "    #make a buy or short decision \n",
    "    #if the price is lower than (rating*factor), buy\n",
    "    if price < (rating*factor):\n",
    "        print (\"buy\")\n",
    "    #if the price is higher than (rating*factor), short\n",
    "    if price > (rating*factor):\n",
    "        print (\"short\")\n",
    "    #if the price is equal to (rating*factor), do nothing\n",
    "    if price == (rating*factor):\n",
    "        print (\"do nothing\")\n",
    "#end the loop"
   ]
  },
  {
   "cell_type": "code",
   "execution_count": 13,
   "metadata": {},
   "outputs": [
    {
     "ename": "NameError",
     "evalue": "name 'buy' is not defined",
     "output_type": "error",
     "traceback": [
      "\u001b[0;31m---------------------------------------------------------------------------\u001b[0m",
      "\u001b[0;31mNameError\u001b[0m                                 Traceback (most recent call last)",
      "\u001b[0;32m<ipython-input-13-607aeae2678a>\u001b[0m in \u001b[0;36m<module>\u001b[0;34m\u001b[0m\n\u001b[1;32m      1\u001b[0m \u001b[0;31m#count number of buys\u001b[0m\u001b[0;34m\u001b[0m\u001b[0;34m\u001b[0m\u001b[0;34m\u001b[0m\u001b[0m\n\u001b[0;32m----> 2\u001b[0;31m \u001b[0msum\u001b[0m\u001b[0;34m(\u001b[0m\u001b[0mbuy\u001b[0m\u001b[0;34m)\u001b[0m\u001b[0;34m\u001b[0m\u001b[0;34m\u001b[0m\u001b[0m\n\u001b[0m\u001b[1;32m      3\u001b[0m \u001b[0;31m#count number of sells\u001b[0m\u001b[0;34m\u001b[0m\u001b[0;34m\u001b[0m\u001b[0;34m\u001b[0m\u001b[0m\n\u001b[1;32m      4\u001b[0m \u001b[0;31m#count number of ignore\u001b[0m\u001b[0;34m\u001b[0m\u001b[0;34m\u001b[0m\u001b[0;34m\u001b[0m\u001b[0m\n\u001b[1;32m      5\u001b[0m \u001b[0;31m#print all 3 counts at end of algo\u001b[0m\u001b[0;34m\u001b[0m\u001b[0;34m\u001b[0m\u001b[0;34m\u001b[0m\u001b[0m\n",
      "\u001b[0;31mNameError\u001b[0m: name 'buy' is not defined"
     ]
    }
   ],
   "source": [
    "#count number of buys\n",
    "sum(buy)\n",
    "#count number of sells\n",
    "#count number of ignore\n",
    "#print all 3 counts at end of algo\n",
    "#with each buy and sell print the rating and the price"
   ]
  },
  {
   "cell_type": "code",
   "execution_count": null,
   "metadata": {},
   "outputs": [],
   "source": []
  }
 ],
 "metadata": {
  "kernelspec": {
   "display_name": "Python 3",
   "language": "python",
   "name": "python3"
  },
  "language_info": {
   "codemirror_mode": {
    "name": "ipython",
    "version": 3
   },
   "file_extension": ".py",
   "mimetype": "text/x-python",
   "name": "python",
   "nbconvert_exporter": "python",
   "pygments_lexer": "ipython3",
   "version": "3.7.1"
  }
 },
 "nbformat": 4,
 "nbformat_minor": 2
}
